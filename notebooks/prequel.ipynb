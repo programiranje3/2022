{
 "cells": [
  {
   "cell_type": "markdown",
   "id": "f9250bc2-002e-45f9-8109-9667265e240e",
   "metadata": {
    "pycharm": {
     "name": "#%% md\n"
    }
   },
   "source": [
    "# Paul McCartney"
   ]
  },
  {
   "cell_type": "markdown",
   "id": "46ea00e0-1c4e-4a47-a0df-2e48f7e1a8c5",
   "metadata": {
    "pycharm": {
     "name": "#%% md\n"
    }
   },
   "source": [
    "Or, should I stress - *Sir* Paul McCartney :)"
   ]
  },
  {
   "cell_type": "markdown",
   "id": "edf50319-ed9a-4939-b933-86f36fde3ce6",
   "metadata": {
    "pycharm": {
     "name": "#%% md\n"
    }
   },
   "source": [
    "![Paul](https://faroutmagazine.co.uk/static/uploads/2019/09/Exploring-Paul-McCartneys-first-album-away-from-The-Beatles.jpg)"
   ]
  },
  {
   "cell_type": "markdown",
   "id": "20c0fb44-93cb-4c89-aa80-4592fd380e14",
   "metadata": {
    "pycharm": {
     "name": "#%% md\n"
    }
   },
   "source": [
    ">#### At 80 years old, and STILL performing to live audiences after doing this for 60 years… that's 6 decades… \n",
    ">#### I consider Paul McCartney God's gift to mankind.\n",
    " <i>Catherine Aliotta</i>"
   ]
  },
  {
   "cell_type": "markdown",
   "id": "e9ac0072-1234-48d8-b672-d59ce0971d42",
   "metadata": {
    "pycharm": {
     "name": "#%% md\n"
    }
   },
   "source": [
    "![John and Paul](https://www.telegraph.co.uk/content/dam/tv/2021/11/24/TELEMMGLPICT000277846387_trans_NvBQzQNjv4BqohrBMH1BL2qk6BfReq1GjvEyt6fq8YZXvgglDg5pPeY.jpeg?imwidth=1280)"
   ]
  },
  {
   "cell_type": "markdown",
   "id": "d0953ca7-c003-4a7b-93ba-8056041e97f0",
   "metadata": {
    "pycharm": {
     "name": "#%% md\n"
    }
   },
   "source": [
    "[Official Website](https://www.paulmccartney.com/)<br>\n",
    "[Glastonbury 2022](https://www.youtube.com/watch?v=g4UsXksoGNg)"
   ]
  }
 ],
 "metadata": {
  "kernelspec": {
   "display_name": "Python 3 (ipykernel)",
   "language": "python",
   "name": "python3"
  },
  "language_info": {
   "codemirror_mode": {
    "name": "ipython",
    "version": 3
   },
   "file_extension": ".py",
   "mimetype": "text/x-python",
   "name": "python",
   "nbconvert_exporter": "python",
   "pygments_lexer": "ipython3",
   "version": "3.10.0"
  }
 },
 "nbformat": 4,
 "nbformat_minor": 5
}